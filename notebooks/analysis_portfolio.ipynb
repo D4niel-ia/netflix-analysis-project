{
 "cells": [
  {
   "cell_type": "markdown",
   "id": "ebe79f57",
   "metadata": {},
   "source": [
    "# Análise de Dados - Netflix\n",
    "Este notebook contém análises exploratórias da base `netflix_titles.csv`."
   ]
  },
  {
   "cell_type": "code",
   "execution_count": null,
   "id": "a7a8487f",
   "metadata": {},
   "outputs": [],
   "source": [
    "import pandas as pd\n",
    "import matplotlib.pyplot as plt"
   ]
  },
  {
   "cell_type": "code",
   "execution_count": null,
   "id": "cc39d376",
   "metadata": {},
   "outputs": [],
   "source": [
    "df = pd.read_csv(\"../data/netflix_titles.csv\")\n",
    "df.head()"
   ]
  },
  {
   "cell_type": "code",
   "execution_count": null,
   "id": "f3623195",
   "metadata": {},
   "outputs": [],
   "source": [
    "df.info()\n",
    "df.isnull().sum()"
   ]
  },
  {
   "cell_type": "markdown",
   "id": "1b042016",
   "metadata": {},
   "source": [
    "## Problemas encontrados\n",
    "- Valores nulos em `director`\n",
    "- Valores nulos em `country`\n",
    "- Outras colunas incompletas"
   ]
  },
  {
   "cell_type": "code",
   "execution_count": null,
   "id": "863d1fc9",
   "metadata": {},
   "outputs": [],
   "source": [
    "df.describe(include=\"all\")"
   ]
  },
  {
   "cell_type": "code",
   "execution_count": null,
   "id": "49e3b74e",
   "metadata": {},
   "outputs": [],
   "source": [
    "from pathlib import Path\n",
    "import matplotlib.pyplot as plt\n",
    "\n",
    "# Criar pasta outputs se não existir\n",
    "Path(\"../outputs\").mkdir(parents=True, exist_ok=True)\n",
    "\n",
    "# Conferir dados\n",
    "print(df[\"type\"].value_counts())\n",
    "\n",
    "# Criar gráfico\n",
    "plt.figure(figsize=(8,5))\n",
    "df[\"type\"].value_counts().plot(kind=\"bar\", color=\"skyblue\")\n",
    "plt.title(\"Distribuição de Filmes e Séries na Netflix\")\n",
    "plt.xlabel(\"Tipo\")\n",
    "plt.ylabel(\"Quantidade\")\n",
    "plt.tight_layout()\n",
    "\n",
    "# Salvar gráfico\n",
    "plt.savefig(\"../outputs/tipo_distribuicao.png\")\n",
    "\n",
    "# Mostrar gráfico\n",
    "plt.show()\n"
   ]
  },
  {
   "cell_type": "code",
   "execution_count": null,
   "id": "ccbc1c46",
   "metadata": {},
   "outputs": [],
   "source": []
  }
 ],
 "metadata": {
  "language_info": {
   "name": "python"
  }
 },
 "nbformat": 4,
 "nbformat_minor": 5
}
