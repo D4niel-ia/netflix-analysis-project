{
 "cells": [
  {
   "cell_type": "markdown",
   "id": "56bf7651",
   "metadata": {},
   "source": [
    "Informações Iniciais\n",
    "Objetivo: verificar estrutura do dataset e identificar possíveis problemas.\n",
    "\n",
    "- `df.head()` → visualizar primeiras linhas  \n",
    "- `df.info()` → tipos de dados e colunas com valores ausentes  \n",
    "- `df.isnull().sum()` → contagem de valores nulos\n"
   ]
  }
 ],
 "metadata": {
  "language_info": {
   "name": "python"
  }
 },
 "nbformat": 4,
 "nbformat_minor": 5
}
